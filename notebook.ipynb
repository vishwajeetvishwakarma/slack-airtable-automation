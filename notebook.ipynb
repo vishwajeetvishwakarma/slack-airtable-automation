{
 "cells": [
  {
   "cell_type": "code",
   "execution_count": 2,
   "id": "edbebb50",
   "metadata": {},
   "outputs": [],
   "source": [
    "import os\n",
    "import hmac\n",
    "import hashlib\n",
    "from datetime import datetime\n",
    "from pyairtable import Table\n",
    "from slack_sdk import WebClient\n",
    "from slack_sdk.errors import SlackApiError\n",
    "from dotenv import load_dotenv"
   ]
  },
  {
   "cell_type": "code",
   "execution_count": 3,
   "id": "d7ba0738",
   "metadata": {},
   "outputs": [
    {
     "data": {
      "text/plain": [
       "True"
      ]
     },
     "execution_count": 3,
     "metadata": {},
     "output_type": "execute_result"
    }
   ],
   "source": [
    "load_dotenv()"
   ]
  },
  {
   "cell_type": "code",
   "execution_count": 20,
   "id": "5e431b87",
   "metadata": {},
   "outputs": [],
   "source": [
    "airtable_api_key = os.getenv(\"AIRTABLE_API_KEY\")\n",
    "airtable_base_id = os.getenv(\"AIRTABLE_BASE_ID\")\n",
    "airtable_table_name = os.getenv(\"AIRTABLE_TABLE_NAME\")\n",
    "slack_bot_token = os.getenv(\"SLACK_BOT_TOKEN\")\n",
    "slack_channel_id = os.getenv(\"SLACK_CHANNEL_ID\")\n",
    "webhook_secret = os.getenv(\"AIRTABLE_WEBHOOK_SECRET\", \"\")"
   ]
  },
  {
   "cell_type": "code",
   "execution_count": 33,
   "id": "5e8cc720",
   "metadata": {},
   "outputs": [
    {
     "name": "stderr",
     "output_type": "stream",
     "text": [
      "C:\\Users\\vishw\\AppData\\Local\\Temp\\ipykernel_28052\\3246010328.py:1: DeprecationWarning: Passing API keys or base IDs to pyairtable.Table is deprecated; use Api.table() or Base.table() instead. See https://pyairtable.rtfd.org/en/latest/migrations.html for details.\n",
      "  airtable = Table(airtable_api_key, airtable_base_id, airtable_table_name)\n"
     ]
    }
   ],
   "source": [
    "airtable = Table(airtable_api_key, airtable_base_id, airtable_table_name)"
   ]
  },
  {
   "cell_type": "code",
   "execution_count": 34,
   "id": "98ebd215",
   "metadata": {},
   "outputs": [
    {
     "data": {
      "text/plain": [
       "[{'id': 'rec6PwuFADkvm6BdT',\n",
       "  'createdTime': '2025-05-22T08:16:55.000Z',\n",
       "  'fields': {'Record ID': 'rec001',\n",
       "   'Task Name': 'Set up project repository',\n",
       "   'Description': 'Create GitHub repo with basic structure and README',\n",
       "   'Status': 'To Do',\n",
       "   'Assignee': 'U08U7G17GHE',\n",
       "   'Due Date': '2023-05-20'}},\n",
       " {'id': 'recViJH8oX6h5Oc3F',\n",
       "  'createdTime': '2025-05-22T08:16:55.000Z',\n",
       "  'fields': {'Record ID': 'rec003',\n",
       "   'Task Name': 'Implement user authentication',\n",
       "   'Description': 'Build login/signup flows with email verification',\n",
       "   'Status': 'To Do',\n",
       "   'Dependencies': 'rec002',\n",
       "   'Assignee': 'U08U7G17GHE',\n",
       "   'Due Date': '2023-05-25'}},\n",
       " {'id': 'recakO5srj0iPzupS',\n",
       "  'createdTime': '2025-05-22T08:16:55.000Z',\n",
       "  'fields': {'Record ID': 'rec004',\n",
       "   'Task Name': 'Create admin dashboard',\n",
       "   'Description': 'Build interface for monitoring user activities',\n",
       "   'Status': 'To Do',\n",
       "   'Dependencies': 'rec003',\n",
       "   'Assignee': 'U08U7G17GHE',\n",
       "   'Due Date': '2023-05-28'}},\n",
       " {'id': 'recxHnMO2Xih3QcU1',\n",
       "  'createdTime': '2025-05-22T08:16:55.000Z',\n",
       "  'fields': {'Record ID': 'rec002',\n",
       "   'Task Name': 'Define database schema',\n",
       "   'Description': 'Create tables and relationships for user management',\n",
       "   'Status': 'Done',\n",
       "   'Dependencies': 'rec001',\n",
       "   'Assignee': 'U08U7G17GHE',\n",
       "   'Due Date': '2023-05-22'}},\n",
       " {'id': 'recyNC87SgNYlGn1a',\n",
       "  'createdTime': '2025-05-22T08:16:55.000Z',\n",
       "  'fields': {'Record ID': 'rec005',\n",
       "   'Task Name': 'Set up CI/CD pipeline',\n",
       "   'Description': 'Configure automated testing and deployment',\n",
       "   'Status': 'To Do',\n",
       "   'Dependencies': 'rec001',\n",
       "   'Assignee': 'U08U7G17GHE',\n",
       "   'Due Date': '2023-05-23'}}]"
      ]
     },
     "execution_count": 34,
     "metadata": {},
     "output_type": "execute_result"
    }
   ],
   "source": [
    "airtable.all()"
   ]
  },
  {
   "cell_type": "code",
   "execution_count": 16,
   "id": "13097fe3",
   "metadata": {},
   "outputs": [
    {
     "data": {
      "text/plain": [
       "{'id': 'rec6PwuFADkvm6BdT',\n",
       " 'createdTime': '2025-05-22T08:16:55.000Z',\n",
       " 'fields': {'Record ID': 'rec001',\n",
       "  'Task Name': 'Set up project repository',\n",
       "  'Description': 'Create GitHub repo with basic structure and README',\n",
       "  'Status': 'Done',\n",
       "  'Assignee': ['recRgsIUMkEeBxHOr'],\n",
       "  'Due Date': '2023-05-20'}}"
      ]
     },
     "execution_count": 16,
     "metadata": {},
     "output_type": "execute_result"
    }
   ],
   "source": [
    "# getting a single task\n",
    "airtable.get(\"rec6PwuFADkvm6BdT\")"
   ]
  },
  {
   "cell_type": "code",
   "execution_count": 17,
   "id": "7693fb25",
   "metadata": {},
   "outputs": [
    {
     "data": {
      "text/plain": [
       "{'id': 'rec6PwuFADkvm6BdT',\n",
       " 'createdTime': '2025-05-22T08:16:55.000Z',\n",
       " 'fields': {'Record ID': 'rec001',\n",
       "  'Task Name': 'Set up project repository',\n",
       "  'Description': 'Create GitHub repo with basic structure and README',\n",
       "  'Status': 'To Do',\n",
       "  'Assignee': ['recRgsIUMkEeBxHOr'],\n",
       "  'Due Date': '2023-05-20'}}"
      ]
     },
     "execution_count": 17,
     "metadata": {},
     "output_type": "execute_result"
    }
   ],
   "source": [
    "# updating status of task\n",
    "airtable.update(\"rec6PwuFADkvm6BdT\", {\"Status\": \"To Do\"})"
   ]
  },
  {
   "cell_type": "code",
   "execution_count": null,
   "id": "d256bf30",
   "metadata": {},
   "outputs": [],
   "source": [
    "# connecting to slack\n",
    "slack_client = WebClient(token=slack_bot_token)"
   ]
  },
  {
   "cell_type": "code",
   "execution_count": 19,
   "id": "4a76dc2d",
   "metadata": {},
   "outputs": [
    {
     "data": {
      "text/plain": [
       "<slack_sdk.web.client.WebClient at 0x1ed40aaead0>"
      ]
     },
     "execution_count": 19,
     "metadata": {},
     "output_type": "execute_result"
    }
   ],
   "source": [
    "slack_client"
   ]
  },
  {
   "cell_type": "code",
   "execution_count": 32,
   "id": "07281db0",
   "metadata": {},
   "outputs": [],
   "source": [
    "response = slack_client.chat_postMessage(\n",
    "    channel=slack_channel_id, text=f\"<@U08U7G17GHE> Done with task\"\n",
    ")"
   ]
  },
  {
   "cell_type": "code",
   "execution_count": null,
   "id": "22bf2118",
   "metadata": {},
   "outputs": [],
   "source": []
  }
 ],
 "metadata": {
  "kernelspec": {
   "display_name": ".venv",
   "language": "python",
   "name": "python3"
  },
  "language_info": {
   "codemirror_mode": {
    "name": "ipython",
    "version": 3
   },
   "file_extension": ".py",
   "mimetype": "text/x-python",
   "name": "python",
   "nbconvert_exporter": "python",
   "pygments_lexer": "ipython3",
   "version": "3.11.11"
  }
 },
 "nbformat": 4,
 "nbformat_minor": 5
}
